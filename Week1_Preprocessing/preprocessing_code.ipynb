{
 "cells": [
  {
   "cell_type": "markdown",
   "id": "87d33743",
   "metadata": {},
   "source": [
    "## Week 1: A Comparative Analysis of Noise Pollution Across Major Indian Cities (2019-2020)\n",
    "## Week 1: Preprocessing"
   ]
  },
  {
   "cell_type": "markdown",
   "id": "774b45f7",
   "metadata": {},
   "source": [
    "Step 1: Import Necessary Libraries"
   ]
  },
  {
   "cell_type": "code",
   "execution_count": 1,
   "id": "4e441d36",
   "metadata": {},
   "outputs": [],
   "source": [
    "# Import Libraries\n",
    "import pandas as pd\n",
    "import numpy as np\n",
    "import re"
   ]
  },
  {
   "cell_type": "markdown",
   "id": "814d9e75",
   "metadata": {},
   "source": [
    "Step - 2: Display All Columns\n"
   ]
  },
  {
   "cell_type": "code",
   "execution_count": 2,
   "id": "f67acf77",
   "metadata": {},
   "outputs": [],
   "source": [
    "# Set pandas to display all columns\n",
    "pd.set_option('display.max_columns', None)"
   ]
  },
  {
   "cell_type": "markdown",
   "id": "fb491ce6",
   "metadata": {},
   "source": [
    "Step 3: Load the Dataset"
   ]
  },
  {
   "cell_type": "code",
   "execution_count": 4,
   "id": "53cab7de",
   "metadata": {},
   "outputs": [
    {
     "name": "stdout",
     "output_type": "stream",
     "text": [
      "--- Initial Data Head ---\n",
      "   Sl.No. Stations Name with Zone - City Stations Name with Zone - Location  \\\n",
      "0       1                      Bengaluru                  ParisarBhawan (C)   \n",
      "1       2                      Bengaluru                        Peeniya (I)   \n",
      "2       3                      Bengaluru                  NisargaBhawan (R)   \n",
      "3       4                      Bengaluru                      Marathali (C)   \n",
      "4       5                      Bengaluru                            BTM (R)   \n",
      "\n",
      "   Limit in dB(A) Leq - Day - 06 AM to 10PM  \\\n",
      "0                                        65   \n",
      "1                                        75   \n",
      "2                                        55   \n",
      "3                                        65   \n",
      "4                                        55   \n",
      "\n",
      "   Limit in dB(A) Leq - Night - 10PM to 06AM  2019 - Day - Leq. dB(A)  \\\n",
      "0                                         55                     67.2   \n",
      "1                                         70                     63.4   \n",
      "2                                         45                     76.4   \n",
      "3                                         55                     73.1   \n",
      "4                                         45                     64.7   \n",
      "\n",
      "   2019 - Night - Leq. dB(A)  2020 - Day - Leq. dB(A)  \\\n",
      "0                       62.1                     64.3   \n",
      "1                       58.4                     62.6   \n",
      "2                       79.1                     80.2   \n",
      "3                       72.7                     71.8   \n",
      "4                       64.7                     62.5   \n",
      "\n",
      "   2020 - Night - Leq. dB(A)  \n",
      "0                       58.7  \n",
      "1                       60.9  \n",
      "2                       77.4  \n",
      "3                       71.4  \n",
      "4                       62.5  \n",
      "\n",
      "--- Initial Data Info ---\n",
      "<class 'pandas.core.frame.DataFrame'>\n",
      "RangeIndex: 70 entries, 0 to 69\n",
      "Data columns (total 9 columns):\n",
      " #   Column                                     Non-Null Count  Dtype  \n",
      "---  ------                                     --------------  -----  \n",
      " 0   Sl.No.                                     70 non-null     int64  \n",
      " 1   Stations Name with Zone - City             70 non-null     object \n",
      " 2   Stations Name with Zone - Location         70 non-null     object \n",
      " 3   Limit in dB(A) Leq - Day - 06 AM to 10PM   70 non-null     int64  \n",
      " 4   Limit in dB(A) Leq - Night - 10PM to 06AM  70 non-null     int64  \n",
      " 5   2019 - Day - Leq. dB(A)                    70 non-null     float64\n",
      " 6   2019 - Night - Leq. dB(A)                  70 non-null     float64\n",
      " 7   2020 - Day - Leq. dB(A)                    70 non-null     float64\n",
      " 8   2020 - Night - Leq. dB(A)                  70 non-null     float64\n",
      "dtypes: float64(4), int64(3), object(2)\n",
      "memory usage: 5.1+ KB\n"
     ]
    }
   ],
   "source": [
    "# Load the Dataset\n",
    "df = pd.read_csv(\"C:/Users/DELL/Downloads/Noise-Pollution-Project/RS_Session_255_AU_1338_3.csv\")\n",
    "print(\"--- Initial Data Head ---\")\n",
    "print(df.head())\n",
    "print(\"\\n--- Initial Data Info ---\")\n",
    "df.info()"
   ]
  },
  {
   "cell_type": "markdown",
   "id": "80f3af40",
   "metadata": {},
   "source": [
    "Step 4: Clean Column Names"
   ]
  },
  {
   "cell_type": "code",
   "execution_count": 5,
   "id": "701673a3",
   "metadata": {},
   "outputs": [
    {
     "name": "stdout",
     "output_type": "stream",
     "text": [
      "\n",
      "--- Columns After Cleaning ---\n",
      "Index(['ID', 'City', 'Location', 'Limit_in_dBA_Leq_Day_06_AM_to_10PM',\n",
      "       'Limit_in_dBA_Leq_Night_10PM_to_06AM', '2019_Day_Leq_dBA',\n",
      "       '2019_Night_Leq_dBA', '2020_Day_Leq_dBA', '2020_Night_Leq_dBA'],\n",
      "      dtype='object')\n"
     ]
    }
   ],
   "source": [
    "#Cleaning the column names\n",
    "def clean_col_names(df):\n",
    "    cols = df.columns\n",
    "    new_cols = []\n",
    "    for col in cols:\n",
    "        new_col = col.replace('Sl.No.', 'ID')\n",
    "        new_col = new_col.replace('Stations Name with Zone - ', '')\n",
    "        new_col = re.sub(r'\\s*-\\s*', '_', new_col)\n",
    "        new_col = new_col.replace(' ', '_')\n",
    "        new_col = re.sub(r'[^a-zA-Z0-9_]', '', new_col)\n",
    "        new_cols.append(new_col)\n",
    "    df.columns = new_cols\n",
    "    return df\n",
    "\n",
    "df = clean_col_names(df)\n",
    "print(\"\\n--- Columns After Cleaning ---\")\n",
    "print(df.columns)"
   ]
  },
  {
   "cell_type": "markdown",
   "id": "80a62bb3",
   "metadata": {},
   "source": [
    "Step - 5: Feature Engineering - Extract City and Location Type"
   ]
  },
  {
   "cell_type": "code",
   "execution_count": 6,
   "id": "9467f148",
   "metadata": {},
   "outputs": [
    {
     "name": "stdout",
     "output_type": "stream",
     "text": [
      "\n",
      "--- Data Head After Feature Engineering ---\n",
      "        City           Location Location_Type\n",
      "0  Bengaluru  ParisarBhawan (C)    Commercial\n",
      "1  Bengaluru        Peeniya (I)    Industrial\n",
      "2  Bengaluru  NisargaBhawan (R)   Residential\n",
      "3  Bengaluru      Marathali (C)    Commercial\n",
      "4  Bengaluru            BTM (R)   Residential\n"
     ]
    }
   ],
   "source": [
    "#Feature Engineering - Extract City and Location Type\n",
    "# Extract city name from the 'Stations_Name_with_Zone' column\n",
    "df['City'] = df['Stations_Name_with_Zone'].str.extract(r'^(.*?)(?:\\s*-\\s*.*)?$')[0]\n",
    "# Remove any leading/trailing whitespace\n",
    "df['City'] = df['City'].str.strip()\n",
    "\n",
    "# Extract location type abbreviation (e.g., (C), (I)) from the 'Location' column\n",
    "df['Location_Type_Code'] = df['Location'].str.extract(r'\\((\\w)\\)')\n",
    "\n",
    "# Map the code to a full name\n",
    "location_map = {\n",
    "    'C': 'Commercial',\n",
    "    'I': 'Industrial',\n",
    "    'R': 'Residential',\n",
    "    'S': 'Silence'\n",
    "}\n",
    "df['Location_Type'] = df['Location_Type_Code'].map(location_map)\n",
    "\n",
    "print(\"\\n--- Data Head After Feature Engineering ---\")\n",
    "print(df[['City', 'Location', 'Location_Type']].head())"
   ]
  },
  {
   "cell_type": "markdown",
   "id": "b10ff314",
   "metadata": {},
   "source": [
    "Step - 6: Check for Missing Values"
   ]
  },
  {
   "cell_type": "code",
   "execution_count": 16,
   "id": "20e77f35",
   "metadata": {},
   "outputs": [
    {
     "name": "stdout",
     "output_type": "stream",
     "text": [
      "\n",
      "--- Missing Values Check ---\n",
      "ID                                     0\n",
      "City                                   0\n",
      "Location                               0\n",
      "Limit_in_dBA_Leq_Day_06_AM_to_10PM     0\n",
      "Limit_in_dBA_Leq_Night_10PM_to_06AM    0\n",
      "2019_Day_Leq_dBA                       0\n",
      "2019_Night_Leq_dBA                     0\n",
      "2020_Day_Leq_dBA                       0\n",
      "2020_Night_Leq_dBA                     0\n",
      "Location_Type_Code                     0\n",
      "Location_Type                          0\n",
      "dtype: int64\n"
     ]
    }
   ],
   "source": [
    "# Check for missing values\n",
    "print(\"\\n--- Missing Values Check ---\")\n",
    "print(df.isnull().sum())"
   ]
  },
  {
   "cell_type": "code",
   "execution_count": 8,
   "id": "99bcfbbd",
   "metadata": {},
   "outputs": [],
   "source": [
    "# Dropping rows where Location_Type could not be determined, if any\n",
    "df.dropna(subset=['Location_Type'], inplace=True)"
   ]
  },
  {
   "cell_type": "markdown",
   "id": "9dacc076",
   "metadata": {},
   "source": [
    "Step - 7: Convert Columns to Numeric, Forcing Errors to NaN"
   ]
  },
  {
   "cell_type": "code",
   "execution_count": 9,
   "id": "e46a120d",
   "metadata": {},
   "outputs": [
    {
     "name": "stdout",
     "output_type": "stream",
     "text": [
      "\n",
      "--- Missing Values After Coercion ---\n",
      "ID                                     0\n",
      "City                                   0\n",
      "Location                               0\n",
      "Limit_in_dBA_Leq_Day_06_AM_to_10PM     0\n",
      "Limit_in_dBA_Leq_Night_10PM_to_06AM    0\n",
      "2019_Day_Leq_dBA                       0\n",
      "2019_Night_Leq_dBA                     0\n",
      "2020_Day_Leq_dBA                       0\n",
      "2020_Night_Leq_dBA                     0\n",
      "Location_Type_Code                     0\n",
      "Location_Type                          0\n",
      "dtype: int64\n"
     ]
    }
   ],
   "source": [
    "# Identify columns that should be numeric\n",
    "numeric_cols = [\n",
    "    'Limit_in_dBA_Leq_Day_06_AM_to_10PM', 'Limit_in_dBA_Leq_Night_10PM_to_06AM',\n",
    "    '2019_Day_Leq_dBA', '2019_Night_Leq_dBA', '2020_Day_Leq_dBA', '2020_Night_Leq_dBA'\n",
    "]\n",
    "\n",
    "for col in numeric_cols:\n",
    "    df[col] = pd.to_numeric(df[col], errors='coerce')\n",
    "\n",
    "# Check for any new NaNs created\n",
    "print(\"\\n--- Missing Values After Coercion ---\")\n",
    "print(df.isnull().sum())\n",
    "\n",
    "# For simplicity, we'll drop rows with missing values.\n",
    "# In a real-world scenario, you might consider imputation.\n",
    "df.dropna(inplace=True)"
   ]
  },
  {
   "cell_type": "markdown",
   "id": "667003aa",
   "metadata": {},
   "source": [
    "Step - 8: Final Data Inspection"
   ]
  },
  {
   "cell_type": "code",
   "execution_count": 17,
   "id": "220ff83f",
   "metadata": {},
   "outputs": [
    {
     "name": "stdout",
     "output_type": "stream",
     "text": [
      "\n",
      "--- Final Data Info ---\n",
      "<class 'pandas.core.frame.DataFrame'>\n",
      "RangeIndex: 70 entries, 0 to 69\n",
      "Data columns (total 11 columns):\n",
      " #   Column                               Non-Null Count  Dtype  \n",
      "---  ------                               --------------  -----  \n",
      " 0   ID                                   70 non-null     int64  \n",
      " 1   City                                 70 non-null     object \n",
      " 2   Location                             70 non-null     object \n",
      " 3   Limit_in_dBA_Leq_Day_06_AM_to_10PM   70 non-null     int64  \n",
      " 4   Limit_in_dBA_Leq_Night_10PM_to_06AM  70 non-null     int64  \n",
      " 5   2019_Day_Leq_dBA                     70 non-null     float64\n",
      " 6   2019_Night_Leq_dBA                   70 non-null     float64\n",
      " 7   2020_Day_Leq_dBA                     70 non-null     float64\n",
      " 8   2020_Night_Leq_dBA                   70 non-null     float64\n",
      " 9   Location_Type_Code                   70 non-null     object \n",
      " 10  Location_Type                        70 non-null     object \n",
      "dtypes: float64(4), int64(3), object(4)\n",
      "memory usage: 6.1+ KB\n",
      "\n",
      "--- Final Data Description ---\n",
      "              ID  Limit_in_dBA_Leq_Day_06_AM_to_10PM  \\\n",
      "count  70.000000                           70.000000   \n",
      "mean   35.500000                           60.785714   \n",
      "std    20.351085                            8.831585   \n",
      "min     1.000000                           50.000000   \n",
      "25%    18.250000                           55.000000   \n",
      "50%    35.500000                           65.000000   \n",
      "75%    52.750000                           65.000000   \n",
      "max    70.000000                           75.000000   \n",
      "\n",
      "       Limit_in_dBA_Leq_Night_10PM_to_06AM  2019_Day_Leq_dBA  \\\n",
      "count                            70.000000         70.000000   \n",
      "mean                             51.642857         69.135714   \n",
      "std                              10.311153          7.156269   \n",
      "min                              40.000000         50.600000   \n",
      "25%                              45.000000         64.325000   \n",
      "50%                              55.000000         67.800000   \n",
      "75%                              55.000000         74.300000   \n",
      "max                              70.000000         87.200000   \n",
      "\n",
      "       2019_Night_Leq_dBA  2020_Day_Leq_dBA  2020_Night_Leq_dBA  \n",
      "count           70.000000         70.000000           70.000000  \n",
      "mean            65.831429         69.198571           67.225714  \n",
      "std              8.550016          6.435938            7.313214  \n",
      "min             44.700000         57.200000           51.700000  \n",
      "25%             59.775000         64.425000           61.075000  \n",
      "50%             64.350000         68.750000           68.350000  \n",
      "75%             72.925000         73.550000           72.400000  \n",
      "max             90.100000         82.800000           83.600000  \n"
     ]
    }
   ],
   "source": [
    "# Final Data Inspection\n",
    "print(\"\\n--- Final Data Info ---\")\n",
    "df.info()\n",
    "print(\"\\n--- Final Data Description ---\")\n",
    "print(df.describe())"
   ]
  },
  {
   "cell_type": "markdown",
   "id": "0a586a43",
   "metadata": {},
   "source": [
    "Step - 9: Save the Cleaned Data"
   ]
  },
  {
   "cell_type": "code",
   "execution_count": 11,
   "id": "011c4de8",
   "metadata": {},
   "outputs": [],
   "source": [
    "# Selecting relevant columns to save\n",
    "final_df = df[[\n",
    "    'City', 'Location_Type', 'Limit_in_dBA_Leq_Day_06_AM_to_10PM',\n",
    "    'Limit_in_dBA_Leq_Night_10PM_to_06AM', '2019_Day_Leq_dBA', '2019_Night_Leq_dBA',\n",
    "    '2020_Day_Leq_dBA', '2020_Night_Leq_dBA'\n",
    "]]"
   ]
  },
  {
   "cell_type": "code",
   "execution_count": 12,
   "id": "464069a5",
   "metadata": {},
   "outputs": [],
   "source": [
    "# Renaming for simplicity in the next stage\n",
    "final_df = final_df.rename(columns={\n",
    "    'Limit_in_dBA_Leq_Day_06_AM_to_10PM': 'Limit_Day_dB',\n",
    "    'Limit_in_dBA_Leq_Night_10PM_to_06AM': 'Limit_Night_dB',\n",
    "    '2019_Day_Leq_dBA': 'Noise_Day_2019',\n",
    "    '2019_Night_Leq_dBA': 'Noise_Night_2019',\n",
    "    '2020_Day_Leq_dBA': 'Noise_Day_2020',\n",
    "    '2020_Night_Leq_dBA': 'Noise_Night_2020'\n",
    "})"
   ]
  },
  {
   "cell_type": "code",
   "execution_count": 19,
   "id": "cb20abd8",
   "metadata": {},
   "outputs": [],
   "source": [
    "# Save the cleaned data to a new CSV file\n",
    "output_path = 'cleaned_noise_data.csv'\n",
    "final_df.to_csv(output_path, index=False)"
   ]
  },
  {
   "cell_type": "code",
   "execution_count": 20,
   "id": "1bd370aa",
   "metadata": {},
   "outputs": [
    {
     "name": "stdout",
     "output_type": "stream",
     "text": [
      "\n",
      "✅ Cleaned data successfully saved to cleaned_noise_data.csv\n"
     ]
    }
   ],
   "source": [
    "print(f\"\\n✅ Cleaned data successfully saved to {output_path}\")"
   ]
  }
 ],
 "metadata": {
  "kernelspec": {
   "display_name": "base",
   "language": "python",
   "name": "python3"
  },
  "language_info": {
   "codemirror_mode": {
    "name": "ipython",
    "version": 3
   },
   "file_extension": ".py",
   "mimetype": "text/x-python",
   "name": "python",
   "nbconvert_exporter": "python",
   "pygments_lexer": "ipython3",
   "version": "3.12.7"
  }
 },
 "nbformat": 4,
 "nbformat_minor": 5
}
